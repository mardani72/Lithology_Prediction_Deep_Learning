{
 "cells": [
  {
   "cell_type": "markdown",
   "id": "possible-egypt",
   "metadata": {},
   "source": [
    "## Lithology Prediction Using Deep Learning: Force 2020 Competition Dataset\n",
    "[Ryan A. Mardani](https://www.linkedin.com/in/amardani/)\n",
    "\n",
    "The objective of this competition was to predict lithology labels from well logs, provided NDP lithostratigraphy and well X, Y position. In this work, it is attempted to have a standard approach, like other Machine Learning problems, to improve prediction scores using Deep Learning methodology.<br> The dimension of the dataset is pretty large and for training purposes, we should consider calculation costs limitations. To tackle this problem, we can get benefit from the parallel calculation in GPU using the TensorFlow library. As we will build an almost large neural network (several hidden dense layers ), GPU calculation can speed up the training process at least ten times than CPU training mode. But, before doing anything, we need to get familiar with the dataset. You can access the full data download link from here. For detailed data explanation, you may read more from here.\n"
   ]
  },
  {
   "cell_type": "code",
   "execution_count": 1,
   "id": "recovered-nevada",
   "metadata": {},
   "outputs": [],
   "source": [
    "import pandas as pd\n",
    "import seaborn as sns\n",
    "import matplotlib.colors as colors\n",
    "from mpl_toolkits.axes_grid1 import make_axes_locatable\n",
    "from tqdm.notebook import tqdm\n",
    "import matplotlib.pyplot as plt\n",
    "import numpy as np\n",
    "import missingno as msno\n",
    "import lasio \n",
    "import os\n",
    "from matplotlib.gridspec import GridSpec\n",
    "from sklearn.model_selection import train_test_split\n",
    "from sklearn.preprocessing import StandardScaler\n",
    "from sklearn.preprocessing import MinMaxScaler \n",
    "from sklearn import linear_model\n",
    "from sklearn.neural_network import MLPRegressor\n",
    "import tensorflow as tf \n",
    "from tensorflow.keras.layers.experimental import preprocessing\n",
    "from tensorflow import keras\n",
    "from sklearn.preprocessing import OneHotEncoder\n",
    "\n",
    "# physical_devices = tf.config.list_physical_devices('GPU') \n",
    "# tf.config.experimental.set_memory_growth(physical_devices[0], True)"
   ]
  },
  {
   "cell_type": "code",
   "execution_count": 2,
   "id": "lonely-burst",
   "metadata": {},
   "outputs": [],
   "source": [
    "def las_df():\n",
    "    path = \"./force_wells_las/\"                   #path las files located\n",
    "    las_files = os.listdir(path)\n",
    "          \n",
    "    las_list= []\n",
    "          \n",
    "    for i in las_files:\n",
    "        if i.lower().endswith('.las'):\n",
    "            las_list.append(path+i)\n",
    "\n",
    "    df_list = []\n",
    "    for i in las_list:\n",
    "        las = lasio.read(i)\n",
    "        df_las = las.df()\n",
    "    \n",
    "#         df_las['WELL'] = las.well.WELL.value # trying this ways gives some names wrong, use file name as well name\n",
    "        df_las['WELL'] = i[18:-4:] # remove extra\n",
    "        df_las['DEPTH'] = df_las.index\n",
    "        df_list.append(df_las)          \n",
    "    \n",
    "    df_all = pd.concat(df_list, sort=True)\n",
    "    df_all['WELL'] = df_all['WELL'].str.replace('_', '/')\n",
    "    return df_all"
   ]
  },
  {
   "cell_type": "code",
   "execution_count": 3,
   "id": "urban-korean",
   "metadata": {},
   "outputs": [],
   "source": [
    "df_all = las_df()"
   ]
  },
  {
   "cell_type": "code",
   "execution_count": 4,
   "id": "informal-oakland",
   "metadata": {},
   "outputs": [],
   "source": [
    "#According to contest\n",
    "test_wells = ['15/9-14', '25/10-10', '25/11-24', '25/5-3', '29/3-1',\n",
    "       '34/10-16 R', '34/3-3 A', '34/6-1 S', '35/6-2 S', '35/9-8']\n",
    "\n",
    "blind_wells = ['15/9-23','16/2-7', '16/7-6', '17/4-1', '25/10-9',\n",
    "               '31/2-10', '31/2-21 S', '34/3-2 S', '35/11-5', '35/9-7']\n",
    "\n",
    "all_wells_list = df_all.WELL.unique()\n",
    "\n",
    "train_wells = [i for i in all_wells_list if i not in test_wells and i not in blind_wells ]"
   ]
  },
  {
   "cell_type": "code",
   "execution_count": 5,
   "id": "resident-harvest",
   "metadata": {},
   "outputs": [],
   "source": [
    "#define individual datasets\n",
    "df_train = df_all[df_all[\"WELL\"].isin(train_wells)]\n",
    "df_test = df_all[df_all[\"WELL\"].isin(test_wells)]\n",
    "df_blind = df_all[df_all[\"WELL\"].isin(blind_wells)]"
   ]
  },
  {
   "cell_type": "markdown",
   "id": "rapid-wholesale",
   "metadata": {},
   "source": [
    "##### Formation tops "
   ]
  },
  {
   "cell_type": "code",
   "execution_count": 6,
   "id": "specific-november",
   "metadata": {},
   "outputs": [],
   "source": [
    "#orignal data is xlxc format, removed unwanted columns and saved csv\n",
    "well_tops = pd.read_csv('formations.csv')\n",
    "well_tops.drop(columns=['Surface','X','Y','Z','Interpreter'], inplace=True)\n",
    "tops = well_tops.rename(columns={\"Well identifier\": \"key1\", \"MD\": \"key2\", \"HorizonName\": \"FORMATION\"})"
   ]
  },
  {
   "cell_type": "code",
   "execution_count": 7,
   "id": "expressed-person",
   "metadata": {},
   "outputs": [],
   "source": [
    "# like SQL join function, let's define a foreign keys: the first key is well name and the second measure Depth\n",
    "df_all['key1'] = df_all.WELL\n",
    "df_all['key2'] = df_all.DEPTH.round()# given formation denpth are round values"
   ]
  },
  {
   "cell_type": "code",
   "execution_count": 8,
   "id": "characteristic-taylor",
   "metadata": {
    "scrolled": true
   },
   "outputs": [],
   "source": [
    "merged_df = pd.merge(df_all, tops, how = 'left', on=[\"key1\", \"key2\"])"
   ]
  },
  {
   "cell_type": "code",
   "execution_count": 9,
   "id": "modular-costume",
   "metadata": {},
   "outputs": [],
   "source": [
    "#keep single top for plotting aim: for that specific formation zone, we keep single formation top value in\n",
    "# dataset\n",
    "merged_df['FORMATION_TOPS']= merged_df.FORMATION.loc[merged_df.FORMATION.shift()!= merged_df.FORMATION]"
   ]
  },
  {
   "cell_type": "code",
   "execution_count": 10,
   "id": "hairy-facing",
   "metadata": {},
   "outputs": [],
   "source": [
    "lithology_labels =   {  30000: 'Sand',        \n",
    "                        65030: 'Sand/Shale',  \n",
    "                        65000: 'Shale',       \n",
    "                        80000: 'Marl',        \n",
    "                        74000: 'Dolo',        \n",
    "                        70000: 'Lime',        \n",
    "                        70032: 'Chak',        \n",
    "                        88000: 'Halit',       \n",
    "                        86000: 'Anhy',        \n",
    "                        99000: 'Tuff',        \n",
    "                        90000: 'Coal',        \n",
    "                        93000: 'Base'  }"
   ]
  },
  {
   "cell_type": "code",
   "execution_count": 11,
   "id": "bronze-practice",
   "metadata": {},
   "outputs": [],
   "source": [
    "lithology_numbers =   { 30000:   0 ,  \n",
    "                        65030:   1 , \n",
    "                        65000:   2 , \n",
    "                        80000:   3 , \n",
    "                        74000:   4 , \n",
    "                        70000:   5 , \n",
    "                        70032:   6 , \n",
    "                        88000:   7 , \n",
    "                        86000:   8 , \n",
    "                        99000:   9, \n",
    "                        90000:   10, \n",
    "                        93000:   11}"
   ]
  },
  {
   "cell_type": "code",
   "execution_count": 12,
   "id": "appropriate-alliance",
   "metadata": {},
   "outputs": [],
   "source": [
    "lithology_colors  =   { 30000:    '#FFFF00',\n",
    "                        65030:    '#9ACD32',\n",
    "                        65000:    '#228B22',\n",
    "                        80000:    '#C0C0C0',\n",
    "                        74000:    '#800080',\n",
    "                        70000:    '#6495ED',\n",
    "                        70032:    '#AFEEEE',\n",
    "                        88000:    '#FFE4B5',\n",
    "                        86000:    '#D2691E',\n",
    "                        99000:    '#FF69B4',\n",
    "                        90000:    '#191970',\n",
    "                        93000:    '#800000'  }"
   ]
  },
  {
   "cell_type": "code",
   "execution_count": 13,
   "id": "lesbian-milan",
   "metadata": {},
   "outputs": [],
   "source": [
    "lith_num =          {  'Sand'      :   0 , \n",
    "                       'Sand/Shale':   1 ,\n",
    "                       'Shale'     :   2 ,\n",
    "                       'Marl'      :   3 ,\n",
    "                       'Dolo'      :   4 ,\n",
    "                       'Lime'      :   5 ,\n",
    "                       'Chak'      :   6 ,\n",
    "                       'Halit'     :   7 ,\n",
    "                       'Anhy'      :   8 ,\n",
    "                       'Tuff'      :   9,\n",
    "                       'Coal'      :   10,\n",
    "                       'Base'      :   11   }"
   ]
  },
  {
   "cell_type": "code",
   "execution_count": 14,
   "id": "civic-closer",
   "metadata": {},
   "outputs": [],
   "source": [
    "#map lithology name and numbers as a new column in dataset\n",
    "merged_df['lithology_name'] = merged_df['FORCE_2020_LITHOFACIES_LITHOLOGY'].map(lithology_labels)\n",
    "merged_df['lithology_num'] = merged_df['FORCE_2020_LITHOFACIES_LITHOLOGY'].map(lithology_numbers)"
   ]
  },
  {
   "cell_type": "markdown",
   "id": "circular-france",
   "metadata": {},
   "source": [
    "### 1- Data Visualization\n",
    "Let's look at the data for better understanding it."
   ]
  },
  {
   "cell_type": "markdown",
   "id": "amateur-talent",
   "metadata": {},
   "source": [
    "#### Geographical well distribution"
   ]
  },
  {
   "cell_type": "markdown",
   "id": "constitutional-neutral",
   "metadata": {},
   "source": [
    "##### Create location file"
   ]
  },
  {
   "cell_type": "code",
   "execution_count": null,
   "id": "afraid-diploma",
   "metadata": {},
   "outputs": [],
   "source": [
    "# for location X,Y coordinate, we can use those in dataset as well head position(almost all wells are vertical)\n",
    "well_names_uniq = merged_df.WELL.unique()\n",
    "X_cor = merged_df.groupby(['WELL'])['X_LOC'].mean()  #location coordinate \n",
    "Y_cor = merged_df.groupby(['WELL'])['Y_LOC'].mean()\n",
    "data_count = merged_df.groupby(['WELL']).count().sum(axis='columns')\n",
    "\n",
    "loc_wells_df = pd.DataFrame({'WELL':well_names_uniq, 'X_LOC': X_cor, 'Y_LOC': Y_cor, 'data_points': data_count})"
   ]
  },
  {
   "cell_type": "code",
   "execution_count": null,
   "id": "unauthorized-maker",
   "metadata": {},
   "outputs": [],
   "source": [
    "loc_wells_df_tr = loc_wells_df[loc_wells_df[\"WELL\"].isin(train_wells)].copy()\n",
    "loc_wells_df_ts = loc_wells_df[loc_wells_df[\"WELL\"].isin(test_wells)].copy()\n",
    "loc_wells_df_bl = loc_wells_df[loc_wells_df[\"WELL\"].isin(blind_wells)].copy()\n",
    "loc_wells_df_tr['well_type']='train_wells'\n",
    "loc_wells_df_ts['well_type']='test_wells'\n",
    "loc_wells_df_bl['well_type']='blind_wells'\n",
    "loc_wells_dfs = pd.concat([loc_wells_df_tr,loc_wells_df_ts,loc_wells_df_bl])"
   ]
  },
  {
   "cell_type": "code",
   "execution_count": null,
   "id": "compressed-andrews",
   "metadata": {},
   "outputs": [],
   "source": [
    "loc_wells_dfs.well_type.unique()"
   ]
  },
  {
   "cell_type": "markdown",
   "id": "forty-detail",
   "metadata": {},
   "source": [
    "##### Plot MAP"
   ]
  },
  {
   "cell_type": "code",
   "execution_count": null,
   "id": "finished-korean",
   "metadata": {},
   "outputs": [],
   "source": [
    "xx = loc_wells_dfs.X_LOC\n",
    "yy = loc_wells_dfs.Y_LOC\n",
    "ss = loc_wells_dfs.data_points\n",
    "ind = loc_wells_dfs.index\n",
    "cc = loc_wells_dfs.well_type\n",
    "\n",
    "def mapPlot():\n",
    "    fig, ax = plt.subplots(figsize=(18,10))\n",
    "\n",
    "    sns.scatterplot(data=loc_wells_dfs, x=xx, y=yy, hue='well_type',size=ss, alpha=.7,\n",
    "                 palette=['red', 'blue', 'green'],sizes=(10, 300), ax=ax)\n",
    "\n",
    "    ax.set_title('Well Distributions: circle size based on data availability', fontsize = '16')\n",
    "    ax.set_xlabel('X_coordinate (UTM)', fontsize = '12')\n",
    "    ax.set_ylabel('Y_coordinate (UTM)', fontsize = '12')\n",
    "\n",
    "    for x,y,z in zip(xx,yy,ind):\n",
    "        label_s = \"{}\".format(z)\n",
    "        ax.annotate(label_s, (x,y),  textcoords=\"offset points\", \n",
    "                 xytext=(0,10), ha='center', fontsize = '8') \n",
    "\n",
    "    ax.grid(True, color='0.6',axis='both', dashes=(5,2,1,2))\n",
    "#     plt.savefig('Fig1_well_map.png', dpi=300)\n"
   ]
  },
  {
   "cell_type": "code",
   "execution_count": null,
   "id": "funded-parameter",
   "metadata": {},
   "outputs": [],
   "source": [
    "mapPlot()"
   ]
  },
  {
   "cell_type": "markdown",
   "id": "potential-horizon",
   "metadata": {},
   "source": [
    "##### Plot Log\n"
   ]
  },
  {
   "cell_type": "code",
   "execution_count": null,
   "id": "divine-nature",
   "metadata": {},
   "outputs": [],
   "source": [
    "def log_plots(well_x, start_depth, stop_depth):\n",
    "    \n",
    "    fig = plt.figure(figsize=(18,10))\n",
    "    gs1 = GridSpec(1, 11, left=0.05, right=0.95, hspace=0.05,wspace=0.12, \n",
    "                   width_ratios=[.3,.4,.6, 1.1 ,1.1, 1.1, 1.1, .7, .8, .3,.45])\n",
    "    \n",
    "    ax0   = fig.add_subplot(gs1[0,0])\n",
    "    ax1   = fig.add_subplot(gs1[0,1], sharey=ax0)\n",
    "    ax2   = fig.add_subplot(gs1[0,2], sharey=ax0)\n",
    "    ax3   = ax2.twiny()\n",
    "    ax4   = fig.add_subplot(gs1[0,3], sharey=ax0)\n",
    "    ax5   = ax4.twiny()\n",
    "    ax6   = fig.add_subplot(gs1[0,4],sharey=ax0)\n",
    "    ax7   = ax6.twiny()\n",
    "    ax8   = ax6.twiny()\n",
    "    ax9   = fig.add_subplot(gs1[0,5],sharey=ax0)\n",
    "    ax10  = ax9.twiny()\n",
    "    ax11  = fig.add_subplot(gs1[0,6],sharey=ax0)\n",
    "    ax12  = ax11.twiny()\n",
    "    ax13  = ax12.twiny()\n",
    "    ax14  = fig.add_subplot(gs1[0,7],sharey=ax0)\n",
    "    ax15  = ax14.twiny()\n",
    "    ax16  = fig.add_subplot(gs1[0,8],sharey=ax0)\n",
    "    ax17  = fig.add_subplot(gs1[0,9],sharey=ax0)\n",
    "    ax18  = fig.add_subplot(gs1[0,10])\n",
    "    \n",
    "    \n",
    "    ax_list = [ ax1, ax2, ax3, ax4, ax5, ax6, ax7, ax8, ax9, ax10, ax11, ax12, ax13, ax14, ax15, ax16, ax17 , ax18 ]\n",
    "    track_list = [ ax2,ax4, ax6, ax9,  ax11,  ax14,ax16, ax17 ]\n",
    "    \n",
    "    for ax in ax_list:\n",
    "        plt.setp(ax.get_yticklabels(), visible = False)\n",
    "\n",
    "    ######################################################################## track0: depth\n",
    "    ax0.plot(np.zeros(len(well_x['DEPTH_MD'])), well_x['DEPTH_MD'], color='k', alpha=.1, lw=1, ls= '-')\n",
    "    ax0.tick_params(axis=\"y\",direction=\"in\", pad=-38)\n",
    "    ax0.set_xlabel('MD(m)', fontsize = '12' )\n",
    "    ax0.xaxis.set_label_position(\"top\")\n",
    "    ax0.set_xticklabels('')\n",
    "    ax0.tick_params(axis='y', colors=\"lightyellow\", labelsize=13 )\n",
    "#     ax0.axes.yaxis.set_ticks([])\n",
    "    ax0.set_facecolor('k')\n",
    "    ax0.set_xticks([0, 1])\n",
    "\n",
    "    ######################################################################## track1: formation tops\n",
    "\n",
    "    form_top = dict(well_x[[ 'FORMATION_TOPS','DEPTH']].dropna().values.tolist())\n",
    "\n",
    "    ax1.set_xlabel('Tops ', fontsize = '12' )\n",
    "#     ax1.set_ylabel('measured depth(m) ', fontsize = '12' )\n",
    "    ax1.set_xticklabels('')\n",
    "    ax1.set_facecolor('#ffffed')\n",
    "    ax1.set_ylim(start_depth, stop_depth)\n",
    "    ax1.xaxis.set_label_position(\"top\")\n",
    "    ax1.invert_yaxis()\n",
    "    for Top in form_top.values() :\n",
    "        ax1.axhline( y = float(Top), color = 'k', lw = 1, ls = '-',    \n",
    "                            alpha = 0.9, xmin = 0.06, xmax = 0.95 )\n",
    "    for Top, MD in form_top.items():\n",
    "        ax1.text( x = 0.45,  y = float(MD), s = Top,fontsize = '9', \n",
    "                horizontalalignment = 'center',verticalalignment = 'bottom')\n",
    "    ######################################################################## track2: Caliper/BS    \n",
    "    ax2.plot(well_x['CALI'], well_x['DEPTH_MD'], color='r', alpha=.8, lw=0.5, ls= '-')\n",
    "    ax2.set_xlabel(\"Caliper\")\n",
    "    ax2.xaxis.label.set_color(\"r\")\n",
    "    ax2.set_xlim(0, 30)\n",
    "    ax2.tick_params(axis='x', colors=\"r\")\n",
    "    ax2.spines[\"top\"].set_edgecolor(\"r\")\n",
    "    ax2.spines[\"top\"].set_position((\"axes\", 1.0))\n",
    "    ax2.title.set_color('r')\n",
    "    ax2.fill_betweenx(well_x['DEPTH_MD'], well_x['BS'], well_x['CALI'], where=well_x['BS'] <= well_x['CALI'], \n",
    "                      facecolor='r',alpha=.5)\n",
    "    ax2.set_xticks([0,10,20, 30])\n",
    "    \n",
    "    ax3.plot(well_x['BS'], well_x['DEPTH_MD'], color='b', alpha=.8, lw=1, ls= '-')\n",
    "    ax3.set_xlabel(\"Bit Size\")\n",
    "    ax3.xaxis.label.set_color(\"b\")\n",
    "    ax3.set_xlim(0, 30)\n",
    "    ax3.tick_params(axis='x', colors=\"b\")\n",
    "    ax3.spines[\"top\"].set_edgecolor(\"b\")\n",
    "    ax3.spines[\"top\"].set_position((\"axes\", 1.08))\n",
    "    ax3.title.set_color('b')\n",
    "    ax3.set_xticks([0,10,20,30])\n",
    "    \n",
    "    ############################################################################ track3: GR/SP  \n",
    "    ax4.plot(well_x['GR'], well_x['DEPTH_MD'], color='g', alpha=.6, lw=0.4, ls= '-')\n",
    "    ax4.set_xlabel(\"Gamma Ray\")\n",
    "    ax4.fill_betweenx(well_x['DEPTH_MD'], well_x['GR'],0,facecolor='g',alpha=.4)\n",
    "    ax4.xaxis.label.set_color(\"g\")\n",
    "    ax4.set_xlim(0, 250)\n",
    "    ax4.tick_params(axis='x', colors=\"g\")\n",
    "    ax4.spines[\"top\"].set_edgecolor(\"g\")\n",
    "    ax4.spines[\"top\"].set_position((\"axes\", 1.0))\n",
    "    ax4.title.set_color('r')\n",
    "    ax4.set_xticks([0, 50, 100, 150, 200, 250])\n",
    "\n",
    "    ax5.plot(well_x['SP'], well_x['DEPTH_MD'], color='m', alpha=.5, lw=0.4, ls= '-')\n",
    "    ax5.set_xlabel(\"SP\")\n",
    "    ax5.xaxis.label.set_color(\"m\")\n",
    "    ax5.set_xlim(0, 200)\n",
    "    ax5.tick_params(axis='x', colors=\"m\")\n",
    "    ax5.spines[\"top\"].set_edgecolor(\"m\")\n",
    "    ax5.spines[\"top\"].set_position((\"axes\", 1.08))\n",
    "    ax5.title.set_color('m')\n",
    "    ax5.set_xticks([0, 50, 100, 150, 200])\n",
    "\n",
    "    ############################################################################ track4: Resistivity \n",
    "    ax6.plot(well_x['RDEP'], well_x['DEPTH_MD'], color='k', alpha=.8, lw=0.4, ls= '-')\n",
    "    ax6.set_xlabel(\"Deep Res.\")\n",
    "    ax6.xaxis.label.set_color(\"k\")\n",
    "    ax6.tick_params(axis='x', colors=\"k\")\n",
    "    ax6.spines[\"top\"].set_edgecolor(\"k\")\n",
    "    ax6.spines[\"top\"].set_position((\"axes\", 1.0))\n",
    "    ax6.title.set_color('r')\n",
    "      \n",
    "    ax7.plot(well_x['RMED'], well_x['DEPTH_MD'], color='r', alpha=.8, lw=0.4, ls= '-')\n",
    "    ax7.set_xlabel(\"Medium Res.\")\n",
    "    ax7.xaxis.label.set_color(\"r\")\n",
    "    ax7.tick_params(axis='x', colors=\"r\")\n",
    "    ax7.spines[\"top\"].set_edgecolor(\"r\")\n",
    "    ax7.spines[\"top\"].set_position((\"axes\", 1.08))\n",
    "    ax7.title.set_color('r')\n",
    "\n",
    "    ax8.plot(well_x['RSHA'], well_x['DEPTH_MD'], color='b', alpha=.5, lw=0.4, ls= '-')\n",
    "    ax8.set_xlabel(\"Shallow Res.\")\n",
    "    ax8.xaxis.label.set_color(\"b\")\n",
    "    ax8.tick_params(axis='x', colors=\"b\")\n",
    "    ax8.spines[\"top\"].set_edgecolor(\"b\")\n",
    "    ax8.spines[\"top\"].set_position((\"axes\", 1.16))\n",
    "    ax8.title.set_color('r')\n",
    "   \n",
    "    ############################################################################ track5: Neutron-Density \n",
    "    ax9.plot(well_x['RHOB'], well_x['DEPTH_MD'], color='r', alpha=.5, lw=0.4, ls= '-')\n",
    "    ax9.set_xlabel(\"RHOB\")\n",
    "    ax9.xaxis.label.set_color(\"r\")\n",
    "    ax9.tick_params(axis='x', colors=\"r\")\n",
    "    ax9.spines[\"top\"].set_edgecolor(\"r\")\n",
    "    ax9.spines[\"top\"].set_position((\"axes\", 1.0))\n",
    "    ax9.title.set_color('r')\n",
    "    ax9.set_xlim(1.65, 2.95)\n",
    "    ax9.set_xticks([1.65, 2,  2.4,   2.8])\n",
    "    \n",
    "    ax10.plot(well_x['NPHI'], well_x['DEPTH_MD'], color='b', alpha=.5, lw=0.4, ls= '-')\n",
    "    ax10.set_xlabel(\"NPHI\")\n",
    "    ax10.xaxis.label.set_color(\"b\")\n",
    "    ax10.tick_params(axis='x', colors=\"b\")\n",
    "    ax10.spines[\"top\"].set_edgecolor(\"b\")\n",
    "    ax10.spines[\"top\"].set_position((\"axes\", 1.08))\n",
    "    ax10.title.set_color('r')\n",
    "    ax10.set_xlim(.61, -.15)\n",
    "    ax10.set_xticks([.6, .40, .2,  0, -.2])\n",
    "    \n",
    "    ############################################################################ track6: Sonic/PEF\n",
    "    ax11.plot(well_x['DTC'], well_x['DEPTH_MD'], color='k', alpha=.8, lw=0.4, ls= '-')\n",
    "    ax11.set_xlabel(\"DTC\")\n",
    "    ax11.xaxis.label.set_color(\"k\")\n",
    "    ax11.tick_params(axis='x', colors=\"k\")\n",
    "    ax11.spines[\"top\"].set_edgecolor(\"k\")\n",
    "    ax11.spines[\"top\"].set_position((\"axes\", 1.0))\n",
    "    ax11.title.set_color('k')\n",
    "    ax11.set_xlim(250, 30)\n",
    "    \n",
    "    ax12.plot(well_x['DTS'], well_x['DEPTH_MD'], color='b', alpha=.5, lw=0.4, ls= '-')\n",
    "    ax12.set_xlabel(\"DTS\")\n",
    "    ax12.xaxis.label.set_color(\"b\")\n",
    "    ax12.tick_params(axis='x', colors=\"b\")\n",
    "    ax12.spines[\"top\"].set_edgecolor(\"b\")\n",
    "    ax12.spines[\"top\"].set_position((\"axes\", 1.08))\n",
    "    ax12.title.set_color('b')\n",
    "    ax12.set_xlim(450, 60)\n",
    "    \n",
    "    ax13.plot(well_x['PEF'], well_x['DEPTH_MD'], color='m', alpha=.5, lw=0.4, ls= '-')\n",
    "    ax13.set_xlabel(\"PEF\")\n",
    "    ax13.xaxis.label.set_color(\"m\")\n",
    "    ax13.tick_params(axis='x', colors=\"m\")\n",
    "    ax13.spines[\"top\"].set_edgecolor(\"m\")\n",
    "    ax13.spines[\"top\"].set_position((\"axes\", 1.16))\n",
    "    ax13.title.set_color('m')\n",
    "    ax13.set_xlim(-1, 60)\n",
    "    ax13.set_xticks([1,  10])\n",
    "    \n",
    "    ############################################################################ track7: Drilling\n",
    "    ax14.plot(well_x['ROP'], well_x['DEPTH_MD'], color='r', alpha=.8, lw=0.4, ls= '-')\n",
    "    ax14.set_xlabel(\"ROP\")\n",
    "    ax14.xaxis.label.set_color(\"r\")\n",
    "    ax14.tick_params(axis='x', colors=\"r\")\n",
    "    ax14.spines[\"top\"].set_edgecolor(\"r\")\n",
    "    ax14.spines[\"top\"].set_position((\"axes\", 1.0))\n",
    "    ax14.title.set_color('r')\n",
    "    ax14.set_xlim(-10, 100)\n",
    "    ax14.set_xticks([-10,  200])\n",
    "\n",
    "    ax15.plot(well_x['MUDWEIGHT'], well_x['DEPTH_MD'], color='b', alpha=.9, lw=0.8, ls= '-')\n",
    "    ax15.set_xlabel(\"Mud Weight\")\n",
    "    ax15.xaxis.label.set_color(\"b\")\n",
    "    ax15.tick_params(axis='x', colors=\"b\")\n",
    "    ax15.spines[\"top\"].set_edgecolor(\"b\")\n",
    "    ax15.spines[\"top\"].set_position((\"axes\", 1.08))\n",
    "    ax15.title.set_color('r')\n",
    "\n",
    "    ############################################################################ track8: Lithology\n",
    "    ax16.plot(well_x[\"FORCE_2020_LITHOFACIES_LITHOLOGY\"], well_x['DEPTH_MD'], color = \"black\", linewidth = 0.5)\n",
    "    ax16.set_xlabel(\"Lithology\",fontsize = '12' )\n",
    "    ax16.set_xlim(0, 1)\n",
    "    ax16.xaxis.label.set_color(\"black\")\n",
    "    ax16.tick_params(axis='x', colors=\"black\")\n",
    "    ax16.spines[\"top\"].set_edgecolor(\"black\")\n",
    "    ax16.set_xticks([0, 1]) \n",
    "\n",
    "    for key in lithology_colors.keys():\n",
    "        color = lithology_colors[key]   \n",
    "        ax16.fill_betweenx(well_x['DEPTH_MD'], 0, well_x['FORCE_2020_LITHOFACIES_LITHOLOGY'], \n",
    "                           where=(well_x['FORCE_2020_LITHOFACIES_LITHOLOGY']==key),facecolor=color)\n",
    "    \n",
    "    ############################################################################ track9: Confidence\n",
    "    ax17.plot(well_x['FORCE_2020_LITHOFACIES_CONFIDENCE'], well_x['DEPTH_MD'], color='k', alpha=.9, lw=0.8, ls= '-')\n",
    "    ax17.set_xlabel(\"Intp. Conf.\")\n",
    "    ax17.xaxis.label.set_color(\"k\")\n",
    "    ax17.tick_params(axis='x', colors=\"k\")\n",
    "    ax17.spines[\"top\"].set_edgecolor(\"k\")\n",
    "    ax17.spines[\"top\"].set_position((\"axes\", 1.0))\n",
    "    ax17.title.set_color('k')\n",
    "    ax17.set_xlim(0, 4)\n",
    "    ax17.set_xticks([0, 2, 4])       \n",
    "        \n",
    "    ############################################################################ track10: Legend\n",
    "    colors = lithology_colors.values()\n",
    "    y_lines = np.linspace(1, 12, 12)\n",
    "    \n",
    "    for y_loc, y_col in zip(y_lines, colors):\n",
    "        ax18.axhline (y_loc, color= y_col , lw = 36, ls = '-',    \n",
    "                            alpha = 0.9, xmin = 0.00, xmax = 1)      \n",
    "\n",
    "    for lith, num in lith_num.items():\n",
    "        ax18.text( x = 0.5,  y = int(num), s = lith, fontsize = '10', \n",
    "                horizontalalignment = 'center',verticalalignment = 'center')\n",
    "    ax18.invert_yaxis()\n",
    "    ax18.yaxis.set_visible(False)\n",
    "    ax18.set_xlabel('Legend ', fontsize = '11' )\n",
    "    ax18.xaxis.set_label_position(\"top\")\n",
    "    ax18.set_xticklabels('')\n",
    "    \n",
    "    ################################################################### Repeatition avoid\n",
    "    for ax in ax_list:\n",
    "        ax.xaxis.set_ticks_position(\"top\")\n",
    "        ax.xaxis.set_label_position(\"top\")               \n",
    "    \n",
    "    for ax in track_list:\n",
    "        ax.grid(True, color='0.8', dashes=(5,2,1,2))\n",
    "        ax.set_facecolor('#ffffed')\n",
    "        \n",
    "    fig.suptitle('Well: %s'%well_x.iloc[0]['WELL'], fontsize=18, y=1.08, x=.48)\n",
    "#     plt.show()\n",
    "#     plt.savefig('Fig2_log_plot.png', dpi=400, bbox_inches='tight')\n",
    "        "
   ]
  },
  {
   "cell_type": "code",
   "execution_count": null,
   "id": "transparent-ideal",
   "metadata": {},
   "outputs": [],
   "source": []
  },
  {
   "cell_type": "code",
   "execution_count": null,
   "id": "essential-minute",
   "metadata": {},
   "outputs": [],
   "source": []
  },
  {
   "cell_type": "code",
   "execution_count": null,
   "id": "documented-cigarette",
   "metadata": {},
   "outputs": [],
   "source": [
    "well_inx = 2  #change the number for another well[between 0 to 117]\n",
    "well_x =  merged_df.loc[merged_df.WELL== merged_df.WELL.unique()[well_inx]]\n",
    "log_plots(well_x, 100, 3400)"
   ]
  },
  {
   "cell_type": "markdown",
   "id": "successful-cooking",
   "metadata": {},
   "source": [
    "##### Cross Plot\n"
   ]
  },
  {
   "cell_type": "code",
   "execution_count": null,
   "id": "hearing-spelling",
   "metadata": {},
   "outputs": [],
   "source": [
    "# these are line position of dolomite, sandstone and limestone rocks for NPHI-Density standard template\n",
    "sand_temp = np.array([[-0.021, 2.650],[-0.012, 2.633],[0.005, 2.594],[0.017, 2.570],[0.042, 2.520],\n",
    "[0.060, 2.482],[0.105, 2.403],[0.153, 2.322],[0.202, 2.238],[0.251, 2.155],[0.303, 2.076],\n",
    "[0.353, 1.994],[0.407, 1.909]])\n",
    "\n",
    "lime_temp = np.array([[0.000, 2.71],[0.027, 2.67],[0.052,2.62],[0.100,2.54],[0.149,2.45],[0.199,2.37],\n",
    "[0.251,2.28],[0.298,2.20],[0.349,2.11],[0.398,2.03],[0.445,1.95]])\n",
    "\n",
    "dolo_temp = np.array ([[0.023,2.870],[0.039,2.865],[0.052,2.855],[0.063,2.846],[0.085,2.822],[0.119,2.778],[0.179,2.683],[0.205,2.635],\n",
    "[0.228,2.590],[0.251,2.546],[0.272,2.497],[0.316,2.403],[0.333,2.363],[0.354,2.313],[0.378,2.253],[0.392,2.217],\n",
    "[0.420,2.147],[0.445,2.074]])\n",
    "\n"
   ]
  },
  {
   "cell_type": "code",
   "execution_count": null,
   "id": "finite-fundamental",
   "metadata": {},
   "outputs": [],
   "source": [
    "def cross_plots(well_x, start_depth, stop_depth):\n",
    "    \n",
    "    fig = plt.figure(figsize=(12,12))\n",
    "    gs1 = GridSpec(2, 2, left=0.05, right=0.95, hspace=0.2,wspace=0.2)\n",
    "    \n",
    "    ax1   = fig.add_subplot(gs1[0])\n",
    "    ax2   = ax1.twiny()\n",
    "    ax3   = ax1.twiny()\n",
    "    ax4   = ax1.twiny()\n",
    "        \n",
    "    ax5   = fig.add_subplot(gs1[1])\n",
    "    ax6   = fig.add_subplot(gs1[2])\n",
    "    ax7   = fig.add_subplot(gs1[3])\n",
    "     \n",
    "    ########################################################################  \n",
    "    well_x = well_x.loc[(well_x['DEPTH_MD'] >= start_depth) & (well_x['DEPTH_MD'] <= stop_depth)]\n",
    "    \n",
    "    sns.scatterplot(data=well_x, x=well_x['NPHI'], y=well_x['RHOB'], palette=lithology_colors.values(), \n",
    "                    hue = well_x['lithology_name'] , alpha=.9, ax=ax1)\n",
    "    ax1.set_xlim(-0.15,1)\n",
    "    ax1.set_ylim(3,1)\n",
    "    ax1.text(-.08, 2.98, 'Dolomite',  rotation=40, fontsize = '7')\n",
    "    ax1.text(-.10, 2.88, 'Limestone',  rotation=40, fontsize = '7')\n",
    "    ax1.text(-.10, 2.75, 'Sandstone',  rotation=40, fontsize = '7')\n",
    "       \n",
    "    ax2.plot(sand_temp[0:, 0], sand_temp[0:, 1], color='k', alpha=.9, lw=1, ls= '-')\n",
    "    ax2.set_xlim(-0.15,1)\n",
    "    ax2.set_ylim(3,1)\n",
    "    ax2.set_xticklabels('')\n",
    "    \n",
    "    ax3.plot(lime_temp[0:, 0], lime_temp[0:, 1],color='k', alpha=.9, lw=1, ls= '-')\n",
    "    ax3.set_xlim(-0.15,1)\n",
    "    ax3.set_ylim(3,1)\n",
    "    ax3.set_xticklabels('')\n",
    "    \n",
    "    ax4.plot(dolo_temp[0:, 0], dolo_temp[0:, 1],color='k', alpha=.9, lw=1, ls= '-')\n",
    "    ax4.set_xlim(-0.15,1)\n",
    "    ax4.set_ylim(3,1)\n",
    "    ax4.set_xticklabels('')\n",
    "    ########################################################################  \n",
    "    sns.scatterplot(data=well_x, x=well_x['NPHI'], y=well_x['DTC'], palette=lithology_colors.values(), \n",
    "                    hue = well_x['lithology_name'] , alpha=.9, ax=ax5)\n",
    "    ax5.set_xlim(-0.15,1)\n",
    "    ax5.set_ylim(0,200)\n",
    "    ########################################################################  \n",
    "    sns.scatterplot(data=well_x, x=well_x['GR'], y=well_x['RHOB'], palette=lithology_colors.values(), \n",
    "                    hue = well_x['lithology_name'] , alpha=.9, ax=ax6)\n",
    "    ax6.set_xlim(0,150)\n",
    "    ax6.set_ylim(3,1)\n",
    "    ########################################################################      \n",
    "    sns.scatterplot(data=well_x, x=well_x['NPHI'], y=well_x['GR'], palette=lithology_colors.values(), \n",
    "                    hue = well_x['lithology_name'] , alpha=.9, ax=ax7)\n",
    "    ax7.set_xlim(-0.15,1)\n",
    "    ax7.set_ylim(0,150)\n",
    "    \n",
    "    for ax in [ax1, ax5,ax6,ax7]:\n",
    "        ax.grid(True, color='0.75', dashes=(5,2,1,2))\n",
    "        ax.set_title('Well: %s'%well_x.iloc[0]['WELL'])\n",
    "    plt.savefig('Fig3_cross_plot.png', dpi=300, bbox_inches='tight')"
   ]
  },
  {
   "cell_type": "code",
   "execution_count": null,
   "id": "breathing-literacy",
   "metadata": {},
   "outputs": [],
   "source": [
    "cross_plots(well_x,1000,3000)"
   ]
  },
  {
   "cell_type": "markdown",
   "id": "finnish-international",
   "metadata": {},
   "source": [
    "####  End of Part.1"
   ]
  },
  {
   "cell_type": "markdown",
   "id": "czech-understanding",
   "metadata": {},
   "source": [
    "## Data Cleaning"
   ]
  },
  {
   "cell_type": "code",
   "execution_count": null,
   "id": "ceramic-liberal",
   "metadata": {},
   "outputs": [],
   "source": [
    "# Let's remove rows that does not have lithology(target) values\n",
    "df_cln1 = merged_df.dropna(subset=['FORCE_2020_LITHOFACIES_LITHOLOGY'])"
   ]
  },
  {
   "cell_type": "code",
   "execution_count": null,
   "id": "operating-contamination",
   "metadata": {},
   "outputs": [],
   "source": [
    "df_cln2 = df_cln1[['BS', 'CALI', 'DCAL', 'DEPTH', 'DRHO', 'DTC', 'DTS',\n",
    "                   'GR', 'MUDWEIGHT', 'NPHI', 'PEF','RDEP', 'RHOB', 'RMED', \n",
    "                  'RMIC', 'ROP','ROPA', 'RSHA', 'RXO','SGR', 'SP', 'WELL', \n",
    "                  'X_LOC', 'Y_LOC', 'Z_LOC','FORMATION',  'lithology_name', \n",
    "                  'lithology_num']] "
   ]
  },
  {
   "cell_type": "code",
   "execution_count": null,
   "id": "likely-supply",
   "metadata": {},
   "outputs": [],
   "source": [
    "msno.matrix(df_cln2,figsize=(20,10), color=(0.35, 0.35, 0.0), fontsize=12)  "
   ]
  },
  {
   "cell_type": "code",
   "execution_count": null,
   "id": "designing-officer",
   "metadata": {},
   "outputs": [],
   "source": [
    "# Delete cols where more than 70% missing\n",
    "df_cln3 = df_cln2.drop(columns=['DCAL', 'DTS','MUDWEIGHT','RMIC', 'ROPA', 'RXO', 'SGR'])"
   ]
  },
  {
   "cell_type": "code",
   "execution_count": null,
   "id": "proved-counter",
   "metadata": {},
   "outputs": [],
   "source": [
    "#considering geological layer succession \n",
    "df_cln3['FORMATION'].fillna(method='ffill', inplace = True)"
   ]
  },
  {
   "cell_type": "markdown",
   "id": "expected-retirement",
   "metadata": {},
   "source": [
    "### Outliers "
   ]
  },
  {
   "cell_type": "code",
   "execution_count": null,
   "id": "organized-kruger",
   "metadata": {},
   "outputs": [],
   "source": [
    "numeric_df = df_cln3.select_dtypes(include=['float64'])\n",
    "\n",
    "fig = plt.figure(figsize=(16,10))\n",
    "for i in range(18):\n",
    "    plt.subplot(6, 3, i+1)\n",
    "    sns.boxplot(x = numeric_df.iloc[:, i], palette='magma' )\n",
    "    plt.tight_layout()\n",
    "    "
   ]
  },
  {
   "cell_type": "markdown",
   "id": "green-brook",
   "metadata": {},
   "source": [
    "### Replace outliers with NaN"
   ]
  },
  {
   "cell_type": "code",
   "execution_count": null,
   "id": "structured-concentration",
   "metadata": {},
   "outputs": [],
   "source": [
    "def remove_outlier(df, col):\n",
    "    q1 = df[col].quantile(0.25)\n",
    "    q3 = df[col].quantile(0.75)\n",
    "    iqr = q3-q1 #Interquartile range\n",
    "    fence_low  = q1-1.5*iqr\n",
    "    fence_high = q3+1.5*iqr\n",
    "    \n",
    "    df[col].loc[df[col] < fence_low] = np.nan\n",
    "    df[col].loc[df[col] > fence_high] = np.nan"
   ]
  },
  {
   "cell_type": "code",
   "execution_count": null,
   "id": "minimal-prescription",
   "metadata": {},
   "outputs": [],
   "source": [
    "df_NaN1 = df_cln3\n",
    "df_NaN1 = df_NaN1.copy(deep=True)\n",
    "\n",
    "#selected cols for outlier elimination\n",
    "numeric_cols = ['BS', 'CALI', 'DRHO', 'DTC', 'GR', 'NPHI', 'PEF', \n",
    "                'RDEP', 'RHOB', 'RMED', 'ROP', 'RSHA', 'SP']\n",
    "\n",
    "for i in numeric_cols:\n",
    "    remove_outlier(df_NaN1, i)"
   ]
  },
  {
   "cell_type": "markdown",
   "id": "iraqi-shelf",
   "metadata": {},
   "source": [
    "##### Corrolation"
   ]
  },
  {
   "cell_type": "code",
   "execution_count": null,
   "id": "continental-repository",
   "metadata": {},
   "outputs": [],
   "source": [
    "df_NaN1.corr().style.background_gradient(cmap='coolwarm').set_precision(2)"
   ]
  },
  {
   "cell_type": "markdown",
   "id": "solar-excess",
   "metadata": {},
   "source": [
    "#### NaN Imputation\n",
    "For those features that we can see correlated at least with another feture, we will impute with linear regression, otherwise with median"
   ]
  },
  {
   "cell_type": "code",
   "execution_count": null,
   "id": "general-trade",
   "metadata": {},
   "outputs": [],
   "source": [
    "df_NaN2 = df_NaN1\n",
    "df_NaN2 = df_NaN2.copy()"
   ]
  },
  {
   "cell_type": "code",
   "execution_count": null,
   "id": "demanding-delay",
   "metadata": {},
   "outputs": [],
   "source": [
    "# we know location should not be that much diifrent from adjacent points\n",
    "df_NaN2['X_LOC'].fillna(method='ffill', inplace=True)\n",
    "df_NaN2['Y_LOC'].fillna(method='ffill', inplace=True)\n",
    "df_NaN2['Z_LOC'].fillna(method='ffill', inplace=True)\n",
    "\n",
    "df_NaN2['FORMATION'].fillna(method='Bfill', inplace=True)\n",
    "\n",
    "# keep numerical columns and implement mean imputation\n",
    "float_cols = df_NaN2.select_dtypes(include=['float64']).columns\n",
    "df_NaN2.loc[:, float_cols] = df_NaN2.loc[:, float_cols].apply(lambda x: x.fillna(x.mean()),axis=0)\n"
   ]
  },
  {
   "cell_type": "markdown",
   "id": "overhead-approval",
   "metadata": {},
   "source": [
    "#### Class Distribution"
   ]
  },
  {
   "cell_type": "code",
   "execution_count": null,
   "id": "sunset-morocco",
   "metadata": {},
   "outputs": [],
   "source": [
    "df = df_NaN2.copy()"
   ]
  },
  {
   "cell_type": "code",
   "execution_count": null,
   "id": "israeli-marathon",
   "metadata": {},
   "outputs": [],
   "source": [
    "from collections import Counter\n",
    "my_counter = Counter(df['lithology_name'])\n",
    "\n",
    "for i,j in my_counter.items():\n",
    "    percent = j / len(df) * 100\n",
    "    print('Class=%s,     Count=%d,       Percentage=%.3f%%' % (i, j, percent))"
   ]
  },
  {
   "cell_type": "code",
   "execution_count": null,
   "id": "aerial-street",
   "metadata": {},
   "outputs": [],
   "source": [
    "df_stat = pd.DataFrame.from_dict(my_counter, orient='index', columns=['freq'])\n",
    "df_stat['lith_num'] = df_stat.index.map(lith_num)\n",
    "df_stat.sort_values(by=['lith_num'], inplace=True )\n",
    "fig= plt.figure(figsize=(12,3))\n",
    "plt.bar(df_stat.index, df_stat.freq, color =lithology_colors.values() )\n",
    "plt.title('Facies Distribution')\n",
    "plt.ylabel('Frequency')"
   ]
  },
  {
   "cell_type": "code",
   "execution_count": null,
   "id": "moderate-orbit",
   "metadata": {},
   "outputs": [],
   "source": [
    "#to plot lithology share on each formation\n",
    "gr_df = df[['FORMATION', 'lithology_name', 'lithology_num']].groupby(['FORMATION', 'lithology_name']).count()\n",
    "pv_df = gr_df.pivot_table(index =[\"FORMATION\"], \n",
    "              columns = 'lithology_name',\n",
    "              values = 'lithology_num')\n",
    "order = list(lith_num.keys()) # to have standard lith color\n",
    "pv_df = pv_df.loc[:, order ]"
   ]
  },
  {
   "cell_type": "code",
   "execution_count": null,
   "id": "gorgeous-pharmacy",
   "metadata": {},
   "outputs": [],
   "source": [
    "pv_df.plot(kind=\"bar\",figsize=(16,6) , stacked=True, \n",
    "           color =lithology_colors.values() ).legend(loc='upper left', ncol=2, title=\"lithology\")\n",
    "\n",
    "plt.title(\"Lithology in Formation: stacked\")\n",
    "plt.ylabel(\"frequency\")\n"
   ]
  },
  {
   "cell_type": "code",
   "execution_count": null,
   "id": "seeing-dancing",
   "metadata": {},
   "outputs": [],
   "source": [
    "#define individual datasets\n",
    "df_train = df[df[\"WELL\"].isin(train_wells)]\n",
    "df_test = df[df[\"WELL\"].isin(test_wells)]\n",
    "df_blind = df[df[\"WELL\"].isin(blind_wells)]"
   ]
  },
  {
   "cell_type": "markdown",
   "id": "challenging-aurora",
   "metadata": {},
   "source": [
    "#### Input and Output Data"
   ]
  },
  {
   "cell_type": "code",
   "execution_count": null,
   "id": "twelve-facility",
   "metadata": {},
   "outputs": [],
   "source": [
    "X = df_train.drop(columns=['WELL','FORMATION', 'lithology_name','Z_LOC','lithology_num'])\n",
    "y = df_train['lithology_num'].astype(int)"
   ]
  },
  {
   "cell_type": "markdown",
   "id": "preliminary-heritage",
   "metadata": {},
   "source": [
    "#### Train — Validation — Test"
   ]
  },
  {
   "cell_type": "code",
   "execution_count": null,
   "id": "labeled-senator",
   "metadata": {},
   "outputs": [],
   "source": [
    "# Split into train+val and test: unbalanced, consider stratification\n",
    "X_trainval, X_test, y_trainval, y_test = train_test_split(X, y, test_size=0.2, stratify=y, random_state=69)\n",
    "\n",
    "# Split train into train-val\n",
    "X_train, X_val, y_train, y_val = train_test_split(X_trainval, y_trainval, test_size=0.1, stratify=y_trainval, random_state=21)"
   ]
  },
  {
   "cell_type": "markdown",
   "id": "thrown-manor",
   "metadata": {},
   "source": [
    "#### Normalize Input"
   ]
  },
  {
   "cell_type": "code",
   "execution_count": null,
   "id": "structured-population",
   "metadata": {},
   "outputs": [],
   "source": [
    "\n",
    "scaler = StandardScaler()\n",
    "X_train = scaler.fit_transform(X_train)\n",
    "# The StandardScaler is only fit using the train_features not validation or test sets.\n",
    "X_val = scaler.transform(X_val)\n",
    "X_test = scaler.transform(X_test)"
   ]
  },
  {
   "cell_type": "code",
   "execution_count": null,
   "id": "developmental-theme",
   "metadata": {},
   "outputs": [],
   "source": [
    "X_train, y_train = np.array(X_train), np.array(y_train)\n",
    "X_val, y_val = np.array(X_val), np.array(y_val)\n",
    "X_test, y_test = np.array(X_test), np.array(y_test)"
   ]
  },
  {
   "cell_type": "code",
   "execution_count": null,
   "id": "settled-finish",
   "metadata": {},
   "outputs": [],
   "source": []
  },
  {
   "cell_type": "markdown",
   "id": "sitting-spiritual",
   "metadata": {},
   "source": [
    "#### make dummy variable"
   ]
  },
  {
   "cell_type": "code",
   "execution_count": null,
   "id": "organized-mexican",
   "metadata": {},
   "outputs": [],
   "source": [
    "def dummy(arr):\n",
    "    dumm = pd.get_dummies(arr)\n",
    "    return dumm.values\n"
   ]
  },
  {
   "cell_type": "code",
   "execution_count": null,
   "id": "premier-reaction",
   "metadata": {},
   "outputs": [],
   "source": [
    "y_train_dum, y_test_dum, y_val_dum = dummy(y_train), dummy(y_test), dummy(y_val)"
   ]
  },
  {
   "cell_type": "code",
   "execution_count": null,
   "id": "comparable-carter",
   "metadata": {},
   "outputs": [],
   "source": [
    "y_train_dum"
   ]
  },
  {
   "cell_type": "code",
   "execution_count": null,
   "id": "considered-billion",
   "metadata": {},
   "outputs": [],
   "source": [
    "METRICS = [\n",
    "    keras.metrics.CategoricalAccuracy(name='accuracy'),\n",
    "#     keras.metrics.CategoricalCrossentropy(name=\"categorical_crossentropy\"),\n",
    "    keras.metrics.Precision(name='precision'),\n",
    "    keras.metrics.Recall(name='recall'),\n",
    "   ]"
   ]
  },
  {
   "cell_type": "code",
   "execution_count": null,
   "id": "complex-chaos",
   "metadata": {},
   "outputs": [],
   "source": [
    "def make_model(metrics=METRICS):\n",
    "    \n",
    "    model = keras.Sequential(\n",
    "        [keras.layers.Dense(128, activation='relu',input_shape=(X_train.shape[-1],)),\n",
    "         keras.layers.Dense(64, activation='relu'),\n",
    "         keras.layers.Dropout(0.5),\n",
    "         keras.layers.Dense(12),\n",
    "        ])\n",
    "\n",
    "    model.compile(\n",
    "        optimizer=keras.optimizers.Adam(lr=1e-3),\n",
    "        loss=keras.losses.CategoricalCrossentropy(),\n",
    "        metrics=metrics)\n",
    "\n",
    "    return model"
   ]
  },
  {
   "cell_type": "code",
   "execution_count": null,
   "id": "romance-strap",
   "metadata": {},
   "outputs": [],
   "source": [
    "EPOCHS = 25\n",
    "BATCH_SIZE = 64\n",
    "\n",
    "# early_stopping = tf.keras.callbacks.EarlyStopping(\n",
    "#     monitor='val_auc', \n",
    "#     verbose=1,\n",
    "#     patience=10,\n",
    "#     mode='max')"
   ]
  },
  {
   "cell_type": "code",
   "execution_count": null,
   "id": "documented-source",
   "metadata": {},
   "outputs": [],
   "source": [
    "model = make_model()\n",
    "model.summary()"
   ]
  },
  {
   "cell_type": "code",
   "execution_count": null,
   "id": "split-arbitration",
   "metadata": {},
   "outputs": [],
   "source": [
    "model = make_model()\n",
    "baseline_history = model.fit(X_train, y_train_dum, batch_size=BATCH_SIZE, epochs=EPOCHS)"
   ]
  },
  {
   "cell_type": "code",
   "execution_count": null,
   "id": "vocal-mozambique",
   "metadata": {},
   "outputs": [],
   "source": [
    "X_train.shape"
   ]
  },
  {
   "cell_type": "code",
   "execution_count": null,
   "id": "confused-tooth",
   "metadata": {},
   "outputs": [],
   "source": [
    "y_train_dum.shape"
   ]
  },
  {
   "cell_type": "code",
   "execution_count": null,
   "id": "waiting-motivation",
   "metadata": {},
   "outputs": [],
   "source": [
    "y_train_dum"
   ]
  },
  {
   "cell_type": "code",
   "execution_count": null,
   "id": "cathedral-carry",
   "metadata": {},
   "outputs": [],
   "source": []
  },
  {
   "cell_type": "code",
   "execution_count": null,
   "id": "incident-encyclopedia",
   "metadata": {},
   "outputs": [],
   "source": []
  },
  {
   "cell_type": "markdown",
   "id": "western-serial",
   "metadata": {},
   "source": [
    "####  References:\n",
    "1- https://zenodo.org/record/4351156#.YD17iWhKjUr <br>\n",
    "2- [Displaying Lithology Data on a Well Log Plot Using Python](https://towardsdatascience.com/displaying-lithology-data-using-python-and-matplotlib-58b4d251ee7a)\n"
   ]
  },
  {
   "cell_type": "code",
   "execution_count": null,
   "id": "civic-organization",
   "metadata": {},
   "outputs": [],
   "source": []
  }
 ],
 "metadata": {
  "kernelspec": {
   "display_name": "Python3.8 (TF2.4-CPU)",
   "language": "python",
   "name": "tensorflow-cpu"
  },
  "language_info": {
   "codemirror_mode": {
    "name": "ipython",
    "version": 3
   },
   "file_extension": ".py",
   "mimetype": "text/x-python",
   "name": "python",
   "nbconvert_exporter": "python",
   "pygments_lexer": "ipython3",
   "version": "3.8.5"
  }
 },
 "nbformat": 4,
 "nbformat_minor": 5
}
